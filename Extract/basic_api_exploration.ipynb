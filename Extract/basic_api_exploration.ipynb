{
 "cells": [
  {
   "cell_type": "code",
   "execution_count": 3,
   "metadata": {},
   "outputs": [],
   "source": [
    "import requests\n",
    "import json\n",
    "import pandas as pd\n",
    "import numpy as np\n",
    "import matplotlib.pyplot as plt\n",
    "import datetime as dt\n",
    "import geopandas as gpd\n",
    "from shapely.geometry import Point"
   ]
  },
  {
   "cell_type": "markdown",
   "metadata": {},
   "source": [
    "# Weather Station features"
   ]
  },
  {
   "cell_type": "code",
   "execution_count": 12,
   "metadata": {},
   "outputs": [
    {
     "name": "stdout",
     "output_type": "stream",
     "text": [
      "type\n",
      "features\n",
      "numberMatched\n",
      "numberReturned\n",
      "links\n",
      "timeStamp\n"
     ]
    }
   ],
   "source": [
    "base_url = 'https://api.weather.gc.ca/collections/climate-stations/items'\n",
    "complete_url = f'{base_url}?&PROV_STATE_TERR_CODE=BC'\n",
    "response = requests.get(base_url)\n",
    "station_data = response.json()\n",
    "for station in station_data:\n",
    "    print(station)"
   ]
  },
  {
   "cell_type": "markdown",
   "metadata": {},
   "source": [
    "## Number of weather stations in Canada"
   ]
  },
  {
   "cell_type": "code",
   "execution_count": 11,
   "metadata": {},
   "outputs": [
    {
     "name": "stdout",
     "output_type": "stream",
     "text": [
      "8552 500\n"
     ]
    }
   ],
   "source": [
    "base_url = 'https://api.weather.gc.ca/collections/climate-stations/items'\n",
    "response = requests.get(base_url)\n",
    "station_data = response.json()\n",
    "print(station_data['numberMatched'], station_data['numberReturned'])"
   ]
  },
  {
   "cell_type": "markdown",
   "metadata": {},
   "source": [
    "## Number of weather stations in BC"
   ]
  },
  {
   "cell_type": "code",
   "execution_count": 13,
   "metadata": {},
   "outputs": [
    {
     "name": "stdout",
     "output_type": "stream",
     "text": [
      "1750 500\n"
     ]
    }
   ],
   "source": [
    "base_url = 'https://api.weather.gc.ca/collections/climate-stations/items?&PROV_STATE_TERR_CODE=BC'\n",
    "response = requests.get(base_url)\n",
    "station_data = response.json()\n",
    "print(station_data['numberMatched'], station_data['numberReturned'])"
   ]
  },
  {
   "cell_type": "markdown",
   "metadata": {},
   "source": [
    "## Number of weather stations in Metro Vancovuer"
   ]
  },
  {
   "cell_type": "code",
   "execution_count": 18,
   "metadata": {},
   "outputs": [
    {
     "name": "stdout",
     "output_type": "stream",
     "text": [
      "246 246\n"
     ]
    }
   ],
   "source": [
    "base_url = 'https://api.weather.gc.ca/collections/climate-stations/items'\n",
    "complete_url = f'{base_url}?&bbox=-123.264,49.002,-122.313,49.494'\n",
    "response = requests.get(complete_url)\n",
    "station_data = response.json()\n",
    "print(station_data['numberMatched'], station_data['numberReturned'])"
   ]
  },
  {
   "cell_type": "markdown",
   "metadata": {},
   "source": [
    "# Extracting features of Climate Stations"
   ]
  },
  {
   "cell_type": "code",
   "execution_count": 22,
   "metadata": {},
   "outputs": [],
   "source": [
    "columns = list(station_data['features'][0]['properties'].keys()) + ['long', 'lat']\n",
    "values = [list(station_data['features'][i]['properties'].values())+ station_data['features'][i]['geometry']['coordinates'] for i in range(len(station_data['features']))]\n",
    "dataframe = pd.DataFrame(values, columns=columns)\n",
    "dataframe.drop(columns=['LATITUDE', 'LONGITUDE'], inplace=True)"
   ]
  },
  {
   "cell_type": "markdown",
   "metadata": {},
   "source": [
    "## Filtering Dataframe"
   ]
  },
  {
   "cell_type": "code",
   "execution_count": 24,
   "metadata": {},
   "outputs": [
    {
     "name": "stdout",
     "output_type": "stream",
     "text": [
      "9 11\n"
     ]
    },
    {
     "name": "stderr",
     "output_type": "stream",
     "text": [
      "C:\\Users\\user\\AppData\\Local\\Temp\\ipykernel_13008\\3126712879.py:4: SettingWithCopyWarning: \n",
      "A value is trying to be set on a copy of a slice from a DataFrame.\n",
      "Try using .loc[row_indexer,col_indexer] = value instead\n",
      "\n",
      "See the caveats in the documentation: https://pandas.pydata.org/pandas-docs/stable/user_guide/indexing.html#returning-a-view-versus-a-copy\n",
      "  dataframe_filt['LAST_DATE'] = pd.to_datetime(dataframe_filt['LAST_DATE'])\n"
     ]
    }
   ],
   "source": [
    "columns_tbkept = ['STN_ID', 'STATION_NAME', 'lat', 'long', 'ELEVATION', 'FIRST_DATE', 'LAST_DATE', 'HLY_FIRST_DATE', \n",
    "                  'HLY_LAST_DATE', 'DLY_FIRST_DATE', 'DLY_LAST_DATE', 'HAS_HOURLY_DATA']\n",
    "dataframe_filt = dataframe[columns_tbkept]\n",
    "dataframe_filt['LAST_DATE'] = pd.to_datetime(dataframe_filt['LAST_DATE'])\n",
    "dataframe_filt = dataframe_filt[dataframe_filt['LAST_DATE'].dt.year>=2020]\n",
    "dataframe_filt_hourly = dataframe_filt[dataframe_filt['HAS_HOURLY_DATA']=='Y']\n",
    "dataframe_filt_daily = dataframe_filt[dataframe_filt['HAS_HOURLY_DATA']=='N']\n",
    "print(len(dataframe_filt_hourly), len(dataframe_filt_daily))"
   ]
  },
  {
   "cell_type": "markdown",
   "metadata": {},
   "source": [
    "## Visualizing weather station location"
   ]
  },
  {
   "cell_type": "code",
   "execution_count": 25,
   "metadata": {},
   "outputs": [],
   "source": [
    "data_hourly = pd.DataFrame({\n",
    "    'latitude': dataframe_filt_hourly['lat'],  # Vancouver coordinates\n",
    "    'longitude': dataframe_filt_hourly['long']\n",
    "})\n",
    "\n",
    "# Create a GeoDataFrame from the latitude and longitude points\n",
    "gdf_hourly = gpd.GeoDataFrame(\n",
    "    data_hourly, \n",
    "    geometry=[Point(xy) for xy in zip(dataframe_filt_hourly['long'], dataframe_filt_hourly['lat'])],\n",
    "    crs=\"EPSG:4326\"  # WGS84 coordinate system\n",
    ")\n",
    "\n",
    "data_daily = pd.DataFrame({\n",
    "    'latitude': dataframe_filt_daily['lat'],  # Vancouver coordinates\n",
    "    'longitude': dataframe_filt_daily['long']\n",
    "})\n",
    "\n",
    "# Create a GeoDataFrame from the latitude and longitude points\n",
    "gdf_daily = gpd.GeoDataFrame(\n",
    "    data_daily, \n",
    "    geometry=[Point(xy) for xy in zip(dataframe_filt_daily['long'], dataframe_filt_daily['lat'])],\n",
    "    crs=\"EPSG:4326\"  # WGS84 coordinate system\n",
    ")"
   ]
  },
  {
   "cell_type": "code",
   "execution_count": 26,
   "metadata": {},
   "outputs": [
    {
     "data": {
      "text/html": [
       "<div>\n",
       "<style scoped>\n",
       "    .dataframe tbody tr th:only-of-type {\n",
       "        vertical-align: middle;\n",
       "    }\n",
       "\n",
       "    .dataframe tbody tr th {\n",
       "        vertical-align: top;\n",
       "    }\n",
       "\n",
       "    .dataframe thead th {\n",
       "        text-align: right;\n",
       "    }\n",
       "</style>\n",
       "<table border=\"1\" class=\"dataframe\">\n",
       "  <thead>\n",
       "    <tr style=\"text-align: right;\">\n",
       "      <th></th>\n",
       "      <th>latitude</th>\n",
       "      <th>longitude</th>\n",
       "      <th>geometry</th>\n",
       "    </tr>\n",
       "  </thead>\n",
       "  <tbody>\n",
       "    <tr>\n",
       "      <th>22</th>\n",
       "      <td>49.314783</td>\n",
       "      <td>-123.115278</td>\n",
       "      <td>POINT (-123.11528 49.31478)</td>\n",
       "    </tr>\n",
       "    <tr>\n",
       "      <th>23</th>\n",
       "      <td>49.279167</td>\n",
       "      <td>-122.881389</td>\n",
       "      <td>POINT (-122.88139 49.27917)</td>\n",
       "    </tr>\n",
       "    <tr>\n",
       "      <th>33</th>\n",
       "      <td>49.144667</td>\n",
       "      <td>-122.551000</td>\n",
       "      <td>POINT (-122.551 49.14467)</td>\n",
       "    </tr>\n",
       "    <tr>\n",
       "      <th>46</th>\n",
       "      <td>49.437518</td>\n",
       "      <td>-122.966946</td>\n",
       "      <td>POINT (-122.96695 49.43752)</td>\n",
       "    </tr>\n",
       "    <tr>\n",
       "      <th>51</th>\n",
       "      <td>49.278389</td>\n",
       "      <td>-122.918044</td>\n",
       "      <td>POINT (-122.91804 49.27839)</td>\n",
       "    </tr>\n",
       "    <tr>\n",
       "      <th>59</th>\n",
       "      <td>49.381112</td>\n",
       "      <td>-123.078334</td>\n",
       "      <td>POINT (-123.07833 49.38111)</td>\n",
       "    </tr>\n",
       "    <tr>\n",
       "      <th>61</th>\n",
       "      <td>49.170833</td>\n",
       "      <td>-123.093056</td>\n",
       "      <td>POINT (-123.09306 49.17083)</td>\n",
       "    </tr>\n",
       "    <tr>\n",
       "      <th>141</th>\n",
       "      <td>49.010944</td>\n",
       "      <td>-123.093333</td>\n",
       "      <td>POINT (-123.09333 49.01094)</td>\n",
       "    </tr>\n",
       "    <tr>\n",
       "      <th>152</th>\n",
       "      <td>49.178611</td>\n",
       "      <td>-123.086944</td>\n",
       "      <td>POINT (-123.08694 49.17861)</td>\n",
       "    </tr>\n",
       "    <tr>\n",
       "      <th>194</th>\n",
       "      <td>49.264472</td>\n",
       "      <td>-122.573167</td>\n",
       "      <td>POINT (-122.57317 49.26447)</td>\n",
       "    </tr>\n",
       "    <tr>\n",
       "      <th>221</th>\n",
       "      <td>49.109153</td>\n",
       "      <td>-122.697597</td>\n",
       "      <td>POINT (-122.6976 49.10915)</td>\n",
       "    </tr>\n",
       "  </tbody>\n",
       "</table>\n",
       "</div>"
      ],
      "text/plain": [
       "      latitude   longitude                     geometry\n",
       "22   49.314783 -123.115278  POINT (-123.11528 49.31478)\n",
       "23   49.279167 -122.881389  POINT (-122.88139 49.27917)\n",
       "33   49.144667 -122.551000    POINT (-122.551 49.14467)\n",
       "46   49.437518 -122.966946  POINT (-122.96695 49.43752)\n",
       "51   49.278389 -122.918044  POINT (-122.91804 49.27839)\n",
       "59   49.381112 -123.078334  POINT (-123.07833 49.38111)\n",
       "61   49.170833 -123.093056  POINT (-123.09306 49.17083)\n",
       "141  49.010944 -123.093333  POINT (-123.09333 49.01094)\n",
       "152  49.178611 -123.086944  POINT (-123.08694 49.17861)\n",
       "194  49.264472 -122.573167  POINT (-122.57317 49.26447)\n",
       "221  49.109153 -122.697597   POINT (-122.6976 49.10915)"
      ]
     },
     "execution_count": 26,
     "metadata": {},
     "output_type": "execute_result"
    }
   ],
   "source": [
    "gdf_daily"
   ]
  },
  {
   "cell_type": "code",
   "execution_count": 28,
   "metadata": {},
   "outputs": [
    {
     "data": {
      "image/png": "[encoded data removed]",
      "text/plain": [
       "<Figure size 1000x1400 with 1 Axes>"
      ]
     },
     "metadata": {},
     "output_type": "display_data"
    }
   ],
   "source": [
    "vancouver_map = gpd.read_file('D:\\\\Is-it-Vancouver-or-is-it-raincouver\\\\metro_van\\\\Administrative_Boundaries.shp')\n",
    "vancouver_map = vancouver_map.to_crs(epsg=4326)\n",
    "fig, ax = plt.subplots(figsize=(10, 14))\n",
    "vancouver_map.plot(ax=ax)  # Plot the map\n",
    "gdf_hourly.plot(ax=ax, color='red', markersize=50, label='Hourly Weather Stations')  # Plot the points\n",
    "gdf_daily.plot(ax=ax, color='yellow', markersize=50, label='Daily Weather Stations')  # Plot the points\n",
    "plt.legend()\n",
    "plt.title(\"Daily and hourly weather station in Metro Vancouver\")\n",
    "plt.show()"
   ]
  },
  {
   "cell_type": "code",
   "execution_count": null,
   "metadata": {},
   "outputs": [],
   "source": []
  },
  {
   "cell_type": "code",
   "execution_count": 117,
   "metadata": {},
   "outputs": [
    {
     "name": "stdout",
     "output_type": "stream",
     "text": [
      "49.185322 -123.0655\n",
      "49.1645 -122.5253\n",
      "49.08408 -122.33036\n",
      "49.2615066 -122.5801007\n",
      "49.16422 -122.550496\n",
      "49.2252002 -123.0442004\n",
      "49.1015 -123.0535\n",
      "49.00394 -123.0536\n",
      "49.1043 -123.0513\n",
      "49.15521 -122.34234\n",
      "49.063295 -122.415135\n"
     ]
    }
   ],
   "source": [
    "for i in range(11):\n",
    "    print(daily_latitude[i], daily_longitude[i])"
   ]
  },
  {
   "cell_type": "code",
   "execution_count": 118,
   "metadata": {},
   "outputs": [
    {
     "data": {
      "text/html": [
       "<div>\n",
       "<style scoped>\n",
       "    .dataframe tbody tr th:only-of-type {\n",
       "        vertical-align: middle;\n",
       "    }\n",
       "\n",
       "    .dataframe tbody tr th {\n",
       "        vertical-align: top;\n",
       "    }\n",
       "\n",
       "    .dataframe thead th {\n",
       "        text-align: right;\n",
       "    }\n",
       "</style>\n",
       "<table border=\"1\" class=\"dataframe\">\n",
       "  <thead>\n",
       "    <tr style=\"text-align: right;\">\n",
       "      <th></th>\n",
       "      <th>STN_ID</th>\n",
       "      <th>STATION_NAME</th>\n",
       "      <th>LATITUDE</th>\n",
       "      <th>LONGITUDE</th>\n",
       "      <th>ELEVATION</th>\n",
       "      <th>FIRST_DATE</th>\n",
       "      <th>LAST_DATE</th>\n",
       "      <th>HLY_FIRST_DATE</th>\n",
       "      <th>HLY_LAST_DATE</th>\n",
       "      <th>DLY_FIRST_DATE</th>\n",
       "      <th>DLY_LAST_DATE</th>\n",
       "      <th>HAS_HOURLY_DATA</th>\n",
       "    </tr>\n",
       "  </thead>\n",
       "  <tbody>\n",
       "    <tr>\n",
       "      <th>22</th>\n",
       "      <td>833</td>\n",
       "      <td>N VANCOUVER WHARVES</td>\n",
       "      <td>491853220</td>\n",
       "      <td>-1230655000</td>\n",
       "      <td>7.00</td>\n",
       "      <td>1962-01-01 00:00:00</td>\n",
       "      <td>2024-09-20</td>\n",
       "      <td>None</td>\n",
       "      <td>None</td>\n",
       "      <td>1962-03-01 00:00:00</td>\n",
       "      <td>2024-09-20 00:00:00</td>\n",
       "      <td>N</td>\n",
       "    </tr>\n",
       "    <tr>\n",
       "      <th>23</th>\n",
       "      <td>834</td>\n",
       "      <td>PORT MOODY GLENAYRE</td>\n",
       "      <td>491645000</td>\n",
       "      <td>-1225253000</td>\n",
       "      <td>129.50</td>\n",
       "      <td>1970-01-01 00:00:00</td>\n",
       "      <td>2024-09-20</td>\n",
       "      <td>None</td>\n",
       "      <td>None</td>\n",
       "      <td>1970-11-01 00:00:00</td>\n",
       "      <td>2024-09-20 00:00:00</td>\n",
       "      <td>N</td>\n",
       "    </tr>\n",
       "    <tr>\n",
       "      <th>33</th>\n",
       "      <td>43723</td>\n",
       "      <td>FORT LANGLEY TELEGRAPH TRAIL</td>\n",
       "      <td>490840800</td>\n",
       "      <td>-1223303600</td>\n",
       "      <td>76.00</td>\n",
       "      <td>2005-04-01 00:00:00</td>\n",
       "      <td>2024-09-20</td>\n",
       "      <td>None</td>\n",
       "      <td>None</td>\n",
       "      <td>2005-04-01 00:00:00</td>\n",
       "      <td>2024-09-20 00:00:00</td>\n",
       "      <td>N</td>\n",
       "    </tr>\n",
       "    <tr>\n",
       "      <th>46</th>\n",
       "      <td>698</td>\n",
       "      <td>N VAN SEYMOUR HATCHERY</td>\n",
       "      <td>492615066</td>\n",
       "      <td>-1225801007</td>\n",
       "      <td>177.00</td>\n",
       "      <td>1981-01-01 00:00:00</td>\n",
       "      <td>2024-09-19</td>\n",
       "      <td>None</td>\n",
       "      <td>None</td>\n",
       "      <td>1981-11-01 00:00:00</td>\n",
       "      <td>2024-09-19 00:00:00</td>\n",
       "      <td>N</td>\n",
       "    </tr>\n",
       "    <tr>\n",
       "      <th>51</th>\n",
       "      <td>731</td>\n",
       "      <td>BURNABY SIMON FRASER U</td>\n",
       "      <td>491642200</td>\n",
       "      <td>-1225504960</td>\n",
       "      <td>365.80</td>\n",
       "      <td>1965-01-01 00:00:00</td>\n",
       "      <td>2022-06-04</td>\n",
       "      <td>None</td>\n",
       "      <td>None</td>\n",
       "      <td>1965-02-01 00:00:00</td>\n",
       "      <td>2022-06-04 00:00:00</td>\n",
       "      <td>N</td>\n",
       "    </tr>\n",
       "    <tr>\n",
       "      <th>59</th>\n",
       "      <td>823</td>\n",
       "      <td>N VANC GROUSE MTN RESORT</td>\n",
       "      <td>492252002</td>\n",
       "      <td>-1230442004</td>\n",
       "      <td>1103.00</td>\n",
       "      <td>1971-01-01 00:00:00</td>\n",
       "      <td>2024-09-11</td>\n",
       "      <td>None</td>\n",
       "      <td>None</td>\n",
       "      <td>1971-10-01 00:00:00</td>\n",
       "      <td>2024-09-11 00:00:00</td>\n",
       "      <td>N</td>\n",
       "    </tr>\n",
       "    <tr>\n",
       "      <th>61</th>\n",
       "      <td>837</td>\n",
       "      <td>RICHMOND NATURE PARK</td>\n",
       "      <td>491015000</td>\n",
       "      <td>-1230535000</td>\n",
       "      <td>3.00</td>\n",
       "      <td>1977-01-01 00:00:00</td>\n",
       "      <td>2024-09-20</td>\n",
       "      <td>None</td>\n",
       "      <td>None</td>\n",
       "      <td>1977-03-01 00:00:00</td>\n",
       "      <td>2024-09-20 00:00:00</td>\n",
       "      <td>N</td>\n",
       "    </tr>\n",
       "    <tr>\n",
       "      <th>141</th>\n",
       "      <td>766</td>\n",
       "      <td>DELTA TSAWWASSEN BEACH</td>\n",
       "      <td>490039400</td>\n",
       "      <td>-1230536000</td>\n",
       "      <td>2.40</td>\n",
       "      <td>1971-01-01 00:00:00</td>\n",
       "      <td>2024-08-21</td>\n",
       "      <td>None</td>\n",
       "      <td>None</td>\n",
       "      <td>1971-03-01 00:00:00</td>\n",
       "      <td>2024-08-21 00:00:00</td>\n",
       "      <td>N</td>\n",
       "    </tr>\n",
       "    <tr>\n",
       "      <th>152</th>\n",
       "      <td>853</td>\n",
       "      <td>RICHMOND DALLYN 2</td>\n",
       "      <td>491043000</td>\n",
       "      <td>-1230513000</td>\n",
       "      <td>1.80</td>\n",
       "      <td>1963-01-01 00:00:00</td>\n",
       "      <td>2024-09-20</td>\n",
       "      <td>None</td>\n",
       "      <td>None</td>\n",
       "      <td>1963-11-01 00:00:00</td>\n",
       "      <td>2024-09-20 00:00:00</td>\n",
       "      <td>N</td>\n",
       "    </tr>\n",
       "    <tr>\n",
       "      <th>194</th>\n",
       "      <td>776</td>\n",
       "      <td>HANEY UBC RF ADMIN</td>\n",
       "      <td>491552100</td>\n",
       "      <td>-1223423400</td>\n",
       "      <td>147.00</td>\n",
       "      <td>1961-01-01 00:00:00</td>\n",
       "      <td>2024-05-30</td>\n",
       "      <td>None</td>\n",
       "      <td>None</td>\n",
       "      <td>1961-10-01 00:00:00</td>\n",
       "      <td>2024-05-30 00:00:00</td>\n",
       "      <td>N</td>\n",
       "    </tr>\n",
       "    <tr>\n",
       "      <th>221</th>\n",
       "      <td>747</td>\n",
       "      <td>CLOVERDALE EAST</td>\n",
       "      <td>490632950</td>\n",
       "      <td>-1224151350</td>\n",
       "      <td>50.00</td>\n",
       "      <td>1964-01-01 00:00:00</td>\n",
       "      <td>2024-09-19</td>\n",
       "      <td>None</td>\n",
       "      <td>None</td>\n",
       "      <td>1964-01-01 00:00:00</td>\n",
       "      <td>2024-09-19 00:00:00</td>\n",
       "      <td>N</td>\n",
       "    </tr>\n",
       "  </tbody>\n",
       "</table>\n",
       "</div>"
      ],
      "text/plain": [
       "     STN_ID                  STATION_NAME   LATITUDE   LONGITUDE ELEVATION  \\\n",
       "22      833           N VANCOUVER WHARVES  491853220 -1230655000      7.00   \n",
       "23      834           PORT MOODY GLENAYRE  491645000 -1225253000    129.50   \n",
       "33    43723  FORT LANGLEY TELEGRAPH TRAIL  490840800 -1223303600     76.00   \n",
       "46      698        N VAN SEYMOUR HATCHERY  492615066 -1225801007    177.00   \n",
       "51      731        BURNABY SIMON FRASER U  491642200 -1225504960    365.80   \n",
       "59      823      N VANC GROUSE MTN RESORT  492252002 -1230442004   1103.00   \n",
       "61      837          RICHMOND NATURE PARK  491015000 -1230535000      3.00   \n",
       "141     766        DELTA TSAWWASSEN BEACH  490039400 -1230536000      2.40   \n",
       "152     853             RICHMOND DALLYN 2  491043000 -1230513000      1.80   \n",
       "194     776            HANEY UBC RF ADMIN  491552100 -1223423400    147.00   \n",
       "221     747               CLOVERDALE EAST  490632950 -1224151350     50.00   \n",
       "\n",
       "              FIRST_DATE  LAST_DATE HLY_FIRST_DATE HLY_LAST_DATE  \\\n",
       "22   1962-01-01 00:00:00 2024-09-20           None          None   \n",
       "23   1970-01-01 00:00:00 2024-09-20           None          None   \n",
       "33   2005-04-01 00:00:00 2024-09-20           None          None   \n",
       "46   1981-01-01 00:00:00 2024-09-19           None          None   \n",
       "51   1965-01-01 00:00:00 2022-06-04           None          None   \n",
       "59   1971-01-01 00:00:00 2024-09-11           None          None   \n",
       "61   1977-01-01 00:00:00 2024-09-20           None          None   \n",
       "141  1971-01-01 00:00:00 2024-08-21           None          None   \n",
       "152  1963-01-01 00:00:00 2024-09-20           None          None   \n",
       "194  1961-01-01 00:00:00 2024-05-30           None          None   \n",
       "221  1964-01-01 00:00:00 2024-09-19           None          None   \n",
       "\n",
       "          DLY_FIRST_DATE        DLY_LAST_DATE HAS_HOURLY_DATA  \n",
       "22   1962-03-01 00:00:00  2024-09-20 00:00:00               N  \n",
       "23   1970-11-01 00:00:00  2024-09-20 00:00:00               N  \n",
       "33   2005-04-01 00:00:00  2024-09-20 00:00:00               N  \n",
       "46   1981-11-01 00:00:00  2024-09-19 00:00:00               N  \n",
       "51   1965-02-01 00:00:00  2022-06-04 00:00:00               N  \n",
       "59   1971-10-01 00:00:00  2024-09-11 00:00:00               N  \n",
       "61   1977-03-01 00:00:00  2024-09-20 00:00:00               N  \n",
       "141  1971-03-01 00:00:00  2024-08-21 00:00:00               N  \n",
       "152  1963-11-01 00:00:00  2024-09-20 00:00:00               N  \n",
       "194  1961-10-01 00:00:00  2024-05-30 00:00:00               N  \n",
       "221  1964-01-01 00:00:00  2024-09-19 00:00:00               N  "
      ]
     },
     "execution_count": 118,
     "metadata": {},
     "output_type": "execute_result"
    }
   ],
   "source": [
    "dataframe_filt_daily"
   ]
  },
  {
   "cell_type": "code",
   "execution_count": null,
   "metadata": {},
   "outputs": [],
   "source": []
  }
 ],
 "metadata": {
  "kernelspec": {
   "display_name": "Python 3",
   "language": "python",
   "name": "python3"
  },
  "language_info": {
   "codemirror_mode": {
    "name": "ipython",
    "version": 3
   },
   "file_extension": ".py",
   "mimetype": "text/x-python",
   "name": "python",
   "nbconvert_exporter": "python",
   "pygments_lexer": "ipython3",
   "version": "3.11.8"
  }
 },
 "nbformat": 4,
 "nbformat_minor": 2
}
