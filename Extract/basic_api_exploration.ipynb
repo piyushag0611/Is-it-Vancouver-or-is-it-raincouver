{
 "cells": [
  {
   "cell_type": "code",
   "execution_count": 63,
   "metadata": {},
   "outputs": [],
   "source": [
    "import requests\n",
    "import json\n",
    "import pandas as pd\n",
    "import numpy as np\n",
    "import matplotlib.pyplot as plt\n",
    "import datetime as dt\n",
    "import geopandas as gpd\n",
    "from shapely.geometry import Point"
   ]
  },
  {
   "cell_type": "markdown",
   "metadata": {},
   "source": [
    "# Weather Station features"
   ]
  },
  {
   "cell_type": "code",
   "execution_count": 12,
   "metadata": {},
   "outputs": [
    {
     "name": "stdout",
     "output_type": "stream",
     "text": [
      "type\n",
      "features\n",
      "numberMatched\n",
      "numberReturned\n",
      "links\n",
      "timeStamp\n"
     ]
    }
   ],
   "source": [
    "base_url = 'https://api.weather.gc.ca/collections/climate-stations/items'\n",
    "complete_url = f'{base_url}?&PROV_STATE_TERR_CODE=BC'\n",
    "response = requests.get(base_url)\n",
    "station_data = response.json()\n",
    "for station in station_data:\n",
    "    print(station)"
   ]
  },
  {
   "cell_type": "markdown",
   "metadata": {},
   "source": [
    "## Number of weather stations in Canada"
   ]
  },
  {
   "cell_type": "code",
   "execution_count": 11,
   "metadata": {},
   "outputs": [
    {
     "name": "stdout",
     "output_type": "stream",
     "text": [
      "8552 500\n"
     ]
    }
   ],
   "source": [
    "base_url = 'https://api.weather.gc.ca/collections/climate-stations/items'\n",
    "response = requests.get(base_url)\n",
    "station_data = response.json()\n",
    "print(station_data['numberMatched'], station_data['numberReturned'])"
   ]
  },
  {
   "cell_type": "markdown",
   "metadata": {},
   "source": [
    "## Number of weather stations in BC"
   ]
  },
  {
   "cell_type": "code",
   "execution_count": 13,
   "metadata": {},
   "outputs": [
    {
     "name": "stdout",
     "output_type": "stream",
     "text": [
      "1750 500\n"
     ]
    }
   ],
   "source": [
    "base_url = 'https://api.weather.gc.ca/collections/climate-stations/items?&PROV_STATE_TERR_CODE=BC'\n",
    "response = requests.get(base_url)\n",
    "station_data = response.json()\n",
    "print(station_data['numberMatched'], station_data['numberReturned'])"
   ]
  },
  {
   "cell_type": "markdown",
   "metadata": {},
   "source": [
    "## Number of weather stations in Metro Vancovuer"
   ]
  },
  {
   "cell_type": "code",
   "execution_count": 121,
   "metadata": {},
   "outputs": [
    {
     "name": "stdout",
     "output_type": "stream",
     "text": [
      "1 1\n"
     ]
    }
   ],
   "source": [
    "base_url = 'https://api.weather.gc.ca/collections/climate-stations/items'\n",
    "complete_url = f'{base_url}?&bbox=-123.264,49.002,-122.313,49.494&STN_ID=731'\n",
    "response = requests.get(complete_url)\n",
    "station_data = response.json()\n",
    "print(station_data['numberMatched'], station_data['numberReturned'])"
   ]
  },
  {
   "cell_type": "code",
   "execution_count": 122,
   "metadata": {},
   "outputs": [
    {
     "data": {
      "text/plain": [
       "{'type': 'FeatureCollection',\n",
       " 'features': [{'type': 'Feature',\n",
       "   'properties': {'STN_ID': 731,\n",
       "    'STATION_NAME': 'BURNABY SIMON FRASER U',\n",
       "    'PROV_STATE_TERR_CODE': 'BC',\n",
       "    'ENG_PROV_NAME': 'BRITISH COLUMBIA',\n",
       "    'FRE_PROV_NAME': 'COLOMBIE-BRITANNIQUE',\n",
       "    'COUNTRY': 'CAN',\n",
       "    'LATITUDE': 491642200,\n",
       "    'LONGITUDE': -1225504960,\n",
       "    'TIMEZONE': 'PST',\n",
       "    'ELEVATION': '365.80',\n",
       "    'CLIMATE_IDENTIFIER': '1101158',\n",
       "    'TC_IDENTIFIER': None,\n",
       "    'WMO_IDENTIFIER': None,\n",
       "    'STATION_TYPE': 'Climate-Staffed',\n",
       "    'NORMAL_CODE': 'A',\n",
       "    'PUBLICATION_CODE': 1,\n",
       "    'DISPLAY_CODE': 1,\n",
       "    'ENG_STN_OPERATOR_ACRONYM': 'CCN',\n",
       "    'FRE_STN_OPERATOR_ACRONYM': 'RCSC',\n",
       "    'ENG_STN_OPERATOR_NAME': 'Co-operative Climate Network',\n",
       "    'FRE_STN_OPERATOR_NAME': 'Réseau coopératif de stations climatiques',\n",
       "    'FIRST_DATE': '1965-01-01 00:00:00',\n",
       "    'LAST_DATE': '2022-06-04 00:00:00',\n",
       "    'HLY_FIRST_DATE': None,\n",
       "    'HLY_LAST_DATE': None,\n",
       "    'DLY_FIRST_DATE': '1965-02-01 00:00:00',\n",
       "    'DLY_LAST_DATE': '2022-06-04 00:00:00',\n",
       "    'MLY_FIRST_DATE': '1965-01-01 00:00:00',\n",
       "    'MLY_LAST_DATE': '2007-02-01 00:00:00',\n",
       "    'HAS_MONTHLY_SUMMARY': 'Y',\n",
       "    'HAS_NORMALS_DATA': 'Y',\n",
       "    'HAS_HOURLY_DATA': 'N'},\n",
       "   'geometry': {'type': 'Point',\n",
       "    'coordinates': [-122.91804444444445, 49.27838888888889]},\n",
       "   'id': '1101158'}],\n",
       " 'numberMatched': 1,\n",
       " 'numberReturned': 1,\n",
       " 'links': [{'type': 'application/geo+json',\n",
       "   'rel': 'self',\n",
       "   'title': 'This document as GeoJSON',\n",
       "   'href': 'https://api.weather.gc.ca/collections/climate-stations/items?f=json&bbox=-123.264,49.002,-122.313,49.494&STN_ID=731'},\n",
       "  {'rel': 'alternate',\n",
       "   'type': 'application/ld+json',\n",
       "   'title': 'This document as RDF (JSON-LD)',\n",
       "   'href': 'https://api.weather.gc.ca/collections/climate-stations/items?f=jsonld&bbox=-123.264,49.002,-122.313,49.494&STN_ID=731'},\n",
       "  {'type': 'text/html',\n",
       "   'rel': 'alternate',\n",
       "   'title': 'This document as HTML',\n",
       "   'href': 'https://api.weather.gc.ca/collections/climate-stations/items?f=html&bbox=-123.264,49.002,-122.313,49.494&STN_ID=731'},\n",
       "  {'type': 'application/json',\n",
       "   'title': 'Climate Stations',\n",
       "   'rel': 'collection',\n",
       "   'href': 'https://api.weather.gc.ca/collections/climate-stations/items'}],\n",
       " 'timeStamp': '2024-09-24T04:42:08.345240Z'}"
      ]
     },
     "execution_count": 122,
     "metadata": {},
     "output_type": "execute_result"
    }
   ],
   "source": [
    "station_data"
   ]
  },
  {
   "cell_type": "markdown",
   "metadata": {},
   "source": [
    "# Extracting features of Climate Stations"
   ]
  },
  {
   "cell_type": "code",
   "execution_count": 43,
   "metadata": {},
   "outputs": [
    {
     "data": {
      "text/plain": [
       "Index(['STN_ID', 'STATION_NAME', 'PROV_STATE_TERR_CODE', 'ENG_PROV_NAME',\n",
       "       'FRE_PROV_NAME', 'COUNTRY', 'LATITUDE', 'LONGITUDE', 'TIMEZONE',\n",
       "       'ELEVATION', 'CLIMATE_IDENTIFIER', 'TC_IDENTIFIER', 'WMO_IDENTIFIER',\n",
       "       'STATION_TYPE', 'NORMAL_CODE', 'PUBLICATION_CODE', 'DISPLAY_CODE',\n",
       "       'ENG_STN_OPERATOR_ACRONYM', 'FRE_STN_OPERATOR_ACRONYM',\n",
       "       'ENG_STN_OPERATOR_NAME', 'FRE_STN_OPERATOR_NAME', 'FIRST_DATE',\n",
       "       'LAST_DATE', 'HLY_FIRST_DATE', 'HLY_LAST_DATE', 'DLY_FIRST_DATE',\n",
       "       'DLY_LAST_DATE', 'MLY_FIRST_DATE', 'MLY_LAST_DATE',\n",
       "       'HAS_MONTHLY_SUMMARY', 'HAS_NORMALS_DATA', 'HAS_HOURLY_DATA'],\n",
       "      dtype='object')"
      ]
     },
     "execution_count": 43,
     "metadata": {},
     "output_type": "execute_result"
    }
   ],
   "source": [
    "columns = station_data['features'][0]['properties'].keys()\n",
    "values = [list(station_data['features'][i]['properties'].values()) for i in range(len(station_data['features']))]\n",
    "dataframe = pd.DataFrame(values, columns=columns)\n",
    "dataframe.columns"
   ]
  },
  {
   "cell_type": "markdown",
   "metadata": {},
   "source": [
    "## Filtering Dataframe"
   ]
  },
  {
   "cell_type": "code",
   "execution_count": 59,
   "metadata": {},
   "outputs": [
    {
     "name": "stdout",
     "output_type": "stream",
     "text": [
      "9 11\n"
     ]
    },
    {
     "name": "stderr",
     "output_type": "stream",
     "text": [
      "C:\\Users\\user\\AppData\\Local\\Temp\\ipykernel_576\\3900777537.py:4: SettingWithCopyWarning: \n",
      "A value is trying to be set on a copy of a slice from a DataFrame.\n",
      "Try using .loc[row_indexer,col_indexer] = value instead\n",
      "\n",
      "See the caveats in the documentation: https://pandas.pydata.org/pandas-docs/stable/user_guide/indexing.html#returning-a-view-versus-a-copy\n",
      "  dataframe_filt['LAST_DATE'] = pd.to_datetime(dataframe_filt['LAST_DATE'])\n"
     ]
    }
   ],
   "source": [
    "columns_tbkept = ['STN_ID', 'STATION_NAME', 'LATITUDE', 'LONGITUDE', 'ELEVATION', 'FIRST_DATE', 'LAST_DATE', 'HLY_FIRST_DATE', \n",
    "                  'HLY_LAST_DATE', 'DLY_FIRST_DATE', 'DLY_LAST_DATE', 'HAS_HOURLY_DATA']\n",
    "dataframe_filt = dataframe[columns_tbkept]\n",
    "dataframe_filt['LAST_DATE'] = pd.to_datetime(dataframe_filt['LAST_DATE'])\n",
    "dataframe_filt = dataframe_filt[dataframe_filt['LAST_DATE'].dt.year>=2020]\n",
    "dataframe_filt_hourly = dataframe_filt[dataframe_filt['HAS_HOURLY_DATA']=='Y']\n",
    "dataframe_filt_daily = dataframe_filt[dataframe_filt['HAS_HOURLY_DATA']=='N']\n",
    "print(len(dataframe_filt_hourly), len(dataframe_filt_daily))"
   ]
  },
  {
   "cell_type": "markdown",
   "metadata": {},
   "source": [
    "## Visualizing weather station location"
   ]
  },
  {
   "cell_type": "code",
   "execution_count": 110,
   "metadata": {},
   "outputs": [],
   "source": [
    "hourly_latitude = [float(f\"{str(lat)[:2]}.{str(lat)[2:]}\") for lat in dataframe_filt_hourly['LATITUDE']]\n",
    "hourly_longitude = [float(f\"{str(long)[:4]}.{str(long)[4:]}\") for long in dataframe_filt_hourly['LONGITUDE']]\n",
    "data_hourly = pd.DataFrame({\n",
    "    'latitude': hourly_latitude,  # Vancouver coordinates\n",
    "    'longitude': hourly_longitude\n",
    "})\n",
    "\n",
    "# Create a GeoDataFrame from the latitude and longitude points\n",
    "gdf_hourly = gpd.GeoDataFrame(\n",
    "    data_hourly, \n",
    "    geometry=[Point(xy) for xy in zip(data_hourly['longitude'], data_hourly['latitude'])],\n",
    "    crs=\"EPSG:4326\"  # WGS84 coordinate system\n",
    ")\n",
    "daily_latitude = [float(f\"{str(lat)[:2]}.{str(lat)[2:]}\") for lat in dataframe_filt_daily['LATITUDE']]\n",
    "daily_longitude = [float(f\"{str(long)[:4]}.{str(long)[4:]}\") for long in dataframe_filt_daily['LONGITUDE']]\n",
    "data_daily = pd.DataFrame({\n",
    "    'latitude': daily_latitude,  # Vancouver coordinates\n",
    "    'longitude': daily_longitude\n",
    "})\n",
    "\n",
    "# Create a GeoDataFrame from the latitude and longitude points\n",
    "gdf_daily = gpd.GeoDataFrame(\n",
    "    data_daily, \n",
    "    geometry=[Point(xy) for xy in zip(data_daily['longitude'], data_daily['latitude'])],\n",
    "    crs=\"EPSG:4326\"  # WGS84 coordinate system\n",
    ")"
   ]
  },
  {
   "cell_type": "code",
   "execution_count": 111,
   "metadata": {},
   "outputs": [
    {
     "data": {
      "image/png": "[encoded data removed]",
      "text/plain": [
       "<Figure size 1000x1400 with 1 Axes>"
      ]
     },
     "metadata": {},
     "output_type": "display_data"
    }
   ],
   "source": [
    "vancouver_map = gpd.read_file('D:\\\\Is-it-Vancouver-or-is-it-raincouver\\\\metro_van\\\\Administrative_Boundaries.shp')\n",
    "vancouver_map = vancouver_map.to_crs(epsg=4326)\n",
    "fig, ax = plt.subplots(figsize=(10, 14))\n",
    "vancouver_map.plot(ax=ax)  # Plot the map\n",
    "gdf_hourly.plot(ax=ax, color='red', markersize=50, label='Hourly Weather Stations')  # Plot the points\n",
    "gdf_daily.plot(ax=ax, color='yellow', markersize=50, label='Daily Weather Stations')  # Plot the points\n",
    "plt.legend()\n",
    "plt.title(\"Daily and hourly weather station in Metro Vancouver\")\n",
    "plt.show()"
   ]
  },
  {
   "cell_type": "code",
   "execution_count": 117,
   "metadata": {},
   "outputs": [
    {
     "name": "stdout",
     "output_type": "stream",
     "text": [
      "49.185322 -123.0655\n",
      "49.1645 -122.5253\n",
      "49.08408 -122.33036\n",
      "49.2615066 -122.5801007\n",
      "49.16422 -122.550496\n",
      "49.2252002 -123.0442004\n",
      "49.1015 -123.0535\n",
      "49.00394 -123.0536\n",
      "49.1043 -123.0513\n",
      "49.15521 -122.34234\n",
      "49.063295 -122.415135\n"
     ]
    }
   ],
   "source": [
    "for i in range(11):\n",
    "    print(daily_latitude[i], daily_longitude[i])"
   ]
  },
  {
   "cell_type": "code",
   "execution_count": 118,
   "metadata": {},
   "outputs": [
    {
     "data": {
      "text/html": [
       "<div>\n",
       "<style scoped>\n",
       "    .dataframe tbody tr th:only-of-type {\n",
       "        vertical-align: middle;\n",
       "    }\n",
       "\n",
       "    .dataframe tbody tr th {\n",
       "        vertical-align: top;\n",
       "    }\n",
       "\n",
       "    .dataframe thead th {\n",
       "        text-align: right;\n",
       "    }\n",
       "</style>\n",
       "<table border=\"1\" class=\"dataframe\">\n",
       "  <thead>\n",
       "    <tr style=\"text-align: right;\">\n",
       "      <th></th>\n",
       "      <th>STN_ID</th>\n",
       "      <th>STATION_NAME</th>\n",
       "      <th>LATITUDE</th>\n",
       "      <th>LONGITUDE</th>\n",
       "      <th>ELEVATION</th>\n",
       "      <th>FIRST_DATE</th>\n",
       "      <th>LAST_DATE</th>\n",
       "      <th>HLY_FIRST_DATE</th>\n",
       "      <th>HLY_LAST_DATE</th>\n",
       "      <th>DLY_FIRST_DATE</th>\n",
       "      <th>DLY_LAST_DATE</th>\n",
       "      <th>HAS_HOURLY_DATA</th>\n",
       "    </tr>\n",
       "  </thead>\n",
       "  <tbody>\n",
       "    <tr>\n",
       "      <th>22</th>\n",
       "      <td>833</td>\n",
       "      <td>N VANCOUVER WHARVES</td>\n",
       "      <td>491853220</td>\n",
       "      <td>-1230655000</td>\n",
       "      <td>7.00</td>\n",
       "      <td>1962-01-01 00:00:00</td>\n",
       "      <td>2024-09-20</td>\n",
       "      <td>None</td>\n",
       "      <td>None</td>\n",
       "      <td>1962-03-01 00:00:00</td>\n",
       "      <td>2024-09-20 00:00:00</td>\n",
       "      <td>N</td>\n",
       "    </tr>\n",
       "    <tr>\n",
       "      <th>23</th>\n",
       "      <td>834</td>\n",
       "      <td>PORT MOODY GLENAYRE</td>\n",
       "      <td>491645000</td>\n",
       "      <td>-1225253000</td>\n",
       "      <td>129.50</td>\n",
       "      <td>1970-01-01 00:00:00</td>\n",
       "      <td>2024-09-20</td>\n",
       "      <td>None</td>\n",
       "      <td>None</td>\n",
       "      <td>1970-11-01 00:00:00</td>\n",
       "      <td>2024-09-20 00:00:00</td>\n",
       "      <td>N</td>\n",
       "    </tr>\n",
       "    <tr>\n",
       "      <th>33</th>\n",
       "      <td>43723</td>\n",
       "      <td>FORT LANGLEY TELEGRAPH TRAIL</td>\n",
       "      <td>490840800</td>\n",
       "      <td>-1223303600</td>\n",
       "      <td>76.00</td>\n",
       "      <td>2005-04-01 00:00:00</td>\n",
       "      <td>2024-09-20</td>\n",
       "      <td>None</td>\n",
       "      <td>None</td>\n",
       "      <td>2005-04-01 00:00:00</td>\n",
       "      <td>2024-09-20 00:00:00</td>\n",
       "      <td>N</td>\n",
       "    </tr>\n",
       "    <tr>\n",
       "      <th>46</th>\n",
       "      <td>698</td>\n",
       "      <td>N VAN SEYMOUR HATCHERY</td>\n",
       "      <td>492615066</td>\n",
       "      <td>-1225801007</td>\n",
       "      <td>177.00</td>\n",
       "      <td>1981-01-01 00:00:00</td>\n",
       "      <td>2024-09-19</td>\n",
       "      <td>None</td>\n",
       "      <td>None</td>\n",
       "      <td>1981-11-01 00:00:00</td>\n",
       "      <td>2024-09-19 00:00:00</td>\n",
       "      <td>N</td>\n",
       "    </tr>\n",
       "    <tr>\n",
       "      <th>51</th>\n",
       "      <td>731</td>\n",
       "      <td>BURNABY SIMON FRASER U</td>\n",
       "      <td>491642200</td>\n",
       "      <td>-1225504960</td>\n",
       "      <td>365.80</td>\n",
       "      <td>1965-01-01 00:00:00</td>\n",
       "      <td>2022-06-04</td>\n",
       "      <td>None</td>\n",
       "      <td>None</td>\n",
       "      <td>1965-02-01 00:00:00</td>\n",
       "      <td>2022-06-04 00:00:00</td>\n",
       "      <td>N</td>\n",
       "    </tr>\n",
       "    <tr>\n",
       "      <th>59</th>\n",
       "      <td>823</td>\n",
       "      <td>N VANC GROUSE MTN RESORT</td>\n",
       "      <td>492252002</td>\n",
       "      <td>-1230442004</td>\n",
       "      <td>1103.00</td>\n",
       "      <td>1971-01-01 00:00:00</td>\n",
       "      <td>2024-09-11</td>\n",
       "      <td>None</td>\n",
       "      <td>None</td>\n",
       "      <td>1971-10-01 00:00:00</td>\n",
       "      <td>2024-09-11 00:00:00</td>\n",
       "      <td>N</td>\n",
       "    </tr>\n",
       "    <tr>\n",
       "      <th>61</th>\n",
       "      <td>837</td>\n",
       "      <td>RICHMOND NATURE PARK</td>\n",
       "      <td>491015000</td>\n",
       "      <td>-1230535000</td>\n",
       "      <td>3.00</td>\n",
       "      <td>1977-01-01 00:00:00</td>\n",
       "      <td>2024-09-20</td>\n",
       "      <td>None</td>\n",
       "      <td>None</td>\n",
       "      <td>1977-03-01 00:00:00</td>\n",
       "      <td>2024-09-20 00:00:00</td>\n",
       "      <td>N</td>\n",
       "    </tr>\n",
       "    <tr>\n",
       "      <th>141</th>\n",
       "      <td>766</td>\n",
       "      <td>DELTA TSAWWASSEN BEACH</td>\n",
       "      <td>490039400</td>\n",
       "      <td>-1230536000</td>\n",
       "      <td>2.40</td>\n",
       "      <td>1971-01-01 00:00:00</td>\n",
       "      <td>2024-08-21</td>\n",
       "      <td>None</td>\n",
       "      <td>None</td>\n",
       "      <td>1971-03-01 00:00:00</td>\n",
       "      <td>2024-08-21 00:00:00</td>\n",
       "      <td>N</td>\n",
       "    </tr>\n",
       "    <tr>\n",
       "      <th>152</th>\n",
       "      <td>853</td>\n",
       "      <td>RICHMOND DALLYN 2</td>\n",
       "      <td>491043000</td>\n",
       "      <td>-1230513000</td>\n",
       "      <td>1.80</td>\n",
       "      <td>1963-01-01 00:00:00</td>\n",
       "      <td>2024-09-20</td>\n",
       "      <td>None</td>\n",
       "      <td>None</td>\n",
       "      <td>1963-11-01 00:00:00</td>\n",
       "      <td>2024-09-20 00:00:00</td>\n",
       "      <td>N</td>\n",
       "    </tr>\n",
       "    <tr>\n",
       "      <th>194</th>\n",
       "      <td>776</td>\n",
       "      <td>HANEY UBC RF ADMIN</td>\n",
       "      <td>491552100</td>\n",
       "      <td>-1223423400</td>\n",
       "      <td>147.00</td>\n",
       "      <td>1961-01-01 00:00:00</td>\n",
       "      <td>2024-05-30</td>\n",
       "      <td>None</td>\n",
       "      <td>None</td>\n",
       "      <td>1961-10-01 00:00:00</td>\n",
       "      <td>2024-05-30 00:00:00</td>\n",
       "      <td>N</td>\n",
       "    </tr>\n",
       "    <tr>\n",
       "      <th>221</th>\n",
       "      <td>747</td>\n",
       "      <td>CLOVERDALE EAST</td>\n",
       "      <td>490632950</td>\n",
       "      <td>-1224151350</td>\n",
       "      <td>50.00</td>\n",
       "      <td>1964-01-01 00:00:00</td>\n",
       "      <td>2024-09-19</td>\n",
       "      <td>None</td>\n",
       "      <td>None</td>\n",
       "      <td>1964-01-01 00:00:00</td>\n",
       "      <td>2024-09-19 00:00:00</td>\n",
       "      <td>N</td>\n",
       "    </tr>\n",
       "  </tbody>\n",
       "</table>\n",
       "</div>"
      ],
      "text/plain": [
       "     STN_ID                  STATION_NAME   LATITUDE   LONGITUDE ELEVATION  \\\n",
       "22      833           N VANCOUVER WHARVES  491853220 -1230655000      7.00   \n",
       "23      834           PORT MOODY GLENAYRE  491645000 -1225253000    129.50   \n",
       "33    43723  FORT LANGLEY TELEGRAPH TRAIL  490840800 -1223303600     76.00   \n",
       "46      698        N VAN SEYMOUR HATCHERY  492615066 -1225801007    177.00   \n",
       "51      731        BURNABY SIMON FRASER U  491642200 -1225504960    365.80   \n",
       "59      823      N VANC GROUSE MTN RESORT  492252002 -1230442004   1103.00   \n",
       "61      837          RICHMOND NATURE PARK  491015000 -1230535000      3.00   \n",
       "141     766        DELTA TSAWWASSEN BEACH  490039400 -1230536000      2.40   \n",
       "152     853             RICHMOND DALLYN 2  491043000 -1230513000      1.80   \n",
       "194     776            HANEY UBC RF ADMIN  491552100 -1223423400    147.00   \n",
       "221     747               CLOVERDALE EAST  490632950 -1224151350     50.00   \n",
       "\n",
       "              FIRST_DATE  LAST_DATE HLY_FIRST_DATE HLY_LAST_DATE  \\\n",
       "22   1962-01-01 00:00:00 2024-09-20           None          None   \n",
       "23   1970-01-01 00:00:00 2024-09-20           None          None   \n",
       "33   2005-04-01 00:00:00 2024-09-20           None          None   \n",
       "46   1981-01-01 00:00:00 2024-09-19           None          None   \n",
       "51   1965-01-01 00:00:00 2022-06-04           None          None   \n",
       "59   1971-01-01 00:00:00 2024-09-11           None          None   \n",
       "61   1977-01-01 00:00:00 2024-09-20           None          None   \n",
       "141  1971-01-01 00:00:00 2024-08-21           None          None   \n",
       "152  1963-01-01 00:00:00 2024-09-20           None          None   \n",
       "194  1961-01-01 00:00:00 2024-05-30           None          None   \n",
       "221  1964-01-01 00:00:00 2024-09-19           None          None   \n",
       "\n",
       "          DLY_FIRST_DATE        DLY_LAST_DATE HAS_HOURLY_DATA  \n",
       "22   1962-03-01 00:00:00  2024-09-20 00:00:00               N  \n",
       "23   1970-11-01 00:00:00  2024-09-20 00:00:00               N  \n",
       "33   2005-04-01 00:00:00  2024-09-20 00:00:00               N  \n",
       "46   1981-11-01 00:00:00  2024-09-19 00:00:00               N  \n",
       "51   1965-02-01 00:00:00  2022-06-04 00:00:00               N  \n",
       "59   1971-10-01 00:00:00  2024-09-11 00:00:00               N  \n",
       "61   1977-03-01 00:00:00  2024-09-20 00:00:00               N  \n",
       "141  1971-03-01 00:00:00  2024-08-21 00:00:00               N  \n",
       "152  1963-11-01 00:00:00  2024-09-20 00:00:00               N  \n",
       "194  1961-10-01 00:00:00  2024-05-30 00:00:00               N  \n",
       "221  1964-01-01 00:00:00  2024-09-19 00:00:00               N  "
      ]
     },
     "execution_count": 118,
     "metadata": {},
     "output_type": "execute_result"
    }
   ],
   "source": [
    "dataframe_filt_daily"
   ]
  },
  {
   "cell_type": "code",
   "execution_count": null,
   "metadata": {},
   "outputs": [],
   "source": []
  }
 ],
 "metadata": {
  "kernelspec": {
   "display_name": "Python 3",
   "language": "python",
   "name": "python3"
  },
  "language_info": {
   "codemirror_mode": {
    "name": "ipython",
    "version": 3
   },
   "file_extension": ".py",
   "mimetype": "text/x-python",
   "name": "python",
   "nbconvert_exporter": "python",
   "pygments_lexer": "ipython3",
   "version": "3.11.8"
  }
 },
 "nbformat": 4,
 "nbformat_minor": 2
}
